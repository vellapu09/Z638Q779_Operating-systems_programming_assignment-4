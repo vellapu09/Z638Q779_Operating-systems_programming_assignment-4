{
  "nbformat": 4,
  "nbformat_minor": 0,
  "metadata": {
    "colab": {
      "provenance": []
    },
    "kernelspec": {
      "name": "python3",
      "display_name": "Python 3"
    },
    "language_info": {
      "name": "python"
    }
  },
  "cells": [
    {
      "cell_type": "code",
      "execution_count": 3,
      "metadata": {
        "id": "0vruMd-LgBMC"
      },
      "outputs": [],
      "source": [
        "def lru_page_replacement(page_reference_string, num_frames):\n",
        "    frames, page_faults, lru_order = [], 0, []\n",
        "    steps = []\n",
        "\n",
        "    for page in page_reference_string:\n",
        "        if page not in frames:\n",
        "            page_faults += 1\n",
        "            if len(frames) < num_frames:\n",
        "                frames.append(page)\n",
        "                lru_order.append(page)\n",
        "            else:\n",
        "                lru_page = lru_order.pop(0)\n",
        "                frames[frames.index(lru_page)] = page\n",
        "                lru_order.append(page)\n",
        "        else:\n",
        "            lru_order.remove(page)\n",
        "            lru_order.append(page)\n",
        "        steps.append(f\"Page fault ({page}) - Page Table: {set(frames)}, Frames: {frames.copy()}, Faults: {page_faults}\")\n",
        "    return steps, page_faults\n",
        "\n",
        "def fifo_page_replacement(page_reference_string, num_frames):\n",
        "    frames, page_faults = [], 0\n",
        "    queue = []\n",
        "    steps = []\n",
        "\n",
        "    for page in page_reference_string:\n",
        "        if page not in frames:\n",
        "            page_faults += 1\n",
        "            if len(frames) < num_frames:\n",
        "                frames.append(page)\n",
        "                queue.append(page)\n",
        "            else:\n",
        "                oldest_page = queue.pop(0)\n",
        "                frames[frames.index(oldest_page)] = page\n",
        "                queue.append(page)\n",
        "        steps.append(f\"Page fault ({page}) - Page Table: {set(frames)}, Frames: {frames.copy()}, Faults: {page_faults}\")\n",
        "    return steps, page_faults\n",
        "\n",
        "def optimal_page_replacement(page_reference_string, num_frames):\n",
        "    frames, page_faults = [], 0\n",
        "    steps = []\n",
        "\n",
        "    for i, page in enumerate(page_reference_string):\n",
        "        if page not in frames:\n",
        "            page_faults += 1\n",
        "            if len(frames) < num_frames:\n",
        "                frames.append(page)\n",
        "            else:\n",
        "                future_use = {frame: page_reference_string[i:].index(frame) if frame in page_reference_string[i:] else float('inf') for frame in frames}\n",
        "                page_to_replace = max(future_use, key=future_use.get)\n",
        "                frames[frames.index(page_to_replace)] = page\n",
        "        steps.append(f\"Page fault ({page}) - Page Table: {set(frames)}, Frames: {frames.copy()}, Faults: {page_faults}\")\n",
        "    return steps, page_faults\n",
        "\n",
        "# Sample Input\n",
        "page_reference_string = [1, 2, 3, 4, 1, 2, 5, 1, 2, 3, 4, 5]\n",
        "num_frames = 4\n",
        "\n",
        "# Run the simulations\n",
        "lru_steps, lru_faults = lru_page_replacement(page_reference_string, num_frames)\n",
        "optimal_steps, optimal_faults = optimal_page_replacement(page_reference_string, num_frames)\n",
        "fifo_steps, fifo_faults = fifo_page_replacement(page_reference_string, num_frames)\n"
      ]
    },
    {
      "cell_type": "code",
      "source": [
        "\n",
        "\n",
        "# Function to print the results\n",
        "def print_results(algorithm_name, steps, total_faults):\n",
        "    print(f\"\\nResults for {algorithm_name} Algorithm:\")\n",
        "    for step in steps:\n",
        "        print(step)\n",
        "    print(f\"Total Page Faults: {total_faults}\")\n",
        "\n",
        "# Print LRU Algorithm Results\n",
        "print_results(\"LRU\", lru_steps, lru_faults)\n",
        "\n",
        "# Print Optimal Algorithm Results\n",
        "print_results(\"Optimal\", optimal_steps, optimal_faults)\n",
        "\n",
        "# Print FIFO Algorithm Results\n",
        "print_results(\"FIFO\", fifo_steps, fifo_faults)\n"
      ],
      "metadata": {
        "colab": {
          "base_uri": "https://localhost:8080/"
        },
        "id": "owMtO6OqgDCH",
        "outputId": "548cb32d-8d17-4956-f82c-bada00ce88a7"
      },
      "execution_count": 4,
      "outputs": [
        {
          "output_type": "stream",
          "name": "stdout",
          "text": [
            "\n",
            "Results for LRU Algorithm:\n",
            "Page fault (1) - Page Table: {1}, Frames: [1], Faults: 1\n",
            "Page fault (2) - Page Table: {1, 2}, Frames: [1, 2], Faults: 2\n",
            "Page fault (3) - Page Table: {1, 2, 3}, Frames: [1, 2, 3], Faults: 3\n",
            "Page fault (4) - Page Table: {1, 2, 3, 4}, Frames: [1, 2, 3, 4], Faults: 4\n",
            "Page fault (1) - Page Table: {1, 2, 3, 4}, Frames: [1, 2, 3, 4], Faults: 4\n",
            "Page fault (2) - Page Table: {1, 2, 3, 4}, Frames: [1, 2, 3, 4], Faults: 4\n",
            "Page fault (5) - Page Table: {1, 2, 4, 5}, Frames: [1, 2, 5, 4], Faults: 5\n",
            "Page fault (1) - Page Table: {1, 2, 4, 5}, Frames: [1, 2, 5, 4], Faults: 5\n",
            "Page fault (2) - Page Table: {1, 2, 4, 5}, Frames: [1, 2, 5, 4], Faults: 5\n",
            "Page fault (3) - Page Table: {1, 2, 3, 5}, Frames: [1, 2, 5, 3], Faults: 6\n",
            "Page fault (4) - Page Table: {1, 2, 3, 4}, Frames: [1, 2, 4, 3], Faults: 7\n",
            "Page fault (5) - Page Table: {2, 3, 4, 5}, Frames: [5, 2, 4, 3], Faults: 8\n",
            "Total Page Faults: 8\n",
            "\n",
            "Results for Optimal Algorithm:\n",
            "Page fault (1) - Page Table: {1}, Frames: [1], Faults: 1\n",
            "Page fault (2) - Page Table: {1, 2}, Frames: [1, 2], Faults: 2\n",
            "Page fault (3) - Page Table: {1, 2, 3}, Frames: [1, 2, 3], Faults: 3\n",
            "Page fault (4) - Page Table: {1, 2, 3, 4}, Frames: [1, 2, 3, 4], Faults: 4\n",
            "Page fault (1) - Page Table: {1, 2, 3, 4}, Frames: [1, 2, 3, 4], Faults: 4\n",
            "Page fault (2) - Page Table: {1, 2, 3, 4}, Frames: [1, 2, 3, 4], Faults: 4\n",
            "Page fault (5) - Page Table: {1, 2, 3, 5}, Frames: [1, 2, 3, 5], Faults: 5\n",
            "Page fault (1) - Page Table: {1, 2, 3, 5}, Frames: [1, 2, 3, 5], Faults: 5\n",
            "Page fault (2) - Page Table: {1, 2, 3, 5}, Frames: [1, 2, 3, 5], Faults: 5\n",
            "Page fault (3) - Page Table: {1, 2, 3, 5}, Frames: [1, 2, 3, 5], Faults: 5\n",
            "Page fault (4) - Page Table: {2, 3, 4, 5}, Frames: [4, 2, 3, 5], Faults: 6\n",
            "Page fault (5) - Page Table: {2, 3, 4, 5}, Frames: [4, 2, 3, 5], Faults: 6\n",
            "Total Page Faults: 6\n",
            "\n",
            "Results for FIFO Algorithm:\n",
            "Page fault (1) - Page Table: {1}, Frames: [1], Faults: 1\n",
            "Page fault (2) - Page Table: {1, 2}, Frames: [1, 2], Faults: 2\n",
            "Page fault (3) - Page Table: {1, 2, 3}, Frames: [1, 2, 3], Faults: 3\n",
            "Page fault (4) - Page Table: {1, 2, 3, 4}, Frames: [1, 2, 3, 4], Faults: 4\n",
            "Page fault (1) - Page Table: {1, 2, 3, 4}, Frames: [1, 2, 3, 4], Faults: 4\n",
            "Page fault (2) - Page Table: {1, 2, 3, 4}, Frames: [1, 2, 3, 4], Faults: 4\n",
            "Page fault (5) - Page Table: {2, 3, 4, 5}, Frames: [5, 2, 3, 4], Faults: 5\n",
            "Page fault (1) - Page Table: {1, 3, 4, 5}, Frames: [5, 1, 3, 4], Faults: 6\n",
            "Page fault (2) - Page Table: {1, 2, 4, 5}, Frames: [5, 1, 2, 4], Faults: 7\n",
            "Page fault (3) - Page Table: {1, 2, 3, 5}, Frames: [5, 1, 2, 3], Faults: 8\n",
            "Page fault (4) - Page Table: {1, 2, 3, 4}, Frames: [4, 1, 2, 3], Faults: 9\n",
            "Page fault (5) - Page Table: {2, 3, 4, 5}, Frames: [4, 5, 2, 3], Faults: 10\n",
            "Total Page Faults: 10\n"
          ]
        }
      ]
    },
    {
      "cell_type": "code",
      "source": [],
      "metadata": {
        "id": "z33H3dE6gcIO"
      },
      "execution_count": null,
      "outputs": []
    }
  ]
}